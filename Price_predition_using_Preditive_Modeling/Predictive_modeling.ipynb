{
 "cells": [
  {
   "cell_type": "code",
   "execution_count": 18,
   "id": "0952847a",
   "metadata": {},
   "outputs": [],
   "source": [
    "import pandas as pd\n",
    "import numpy as np\n",
    "import warnings\n",
    "import plotly.express as px\n",
    "import seaborn as sns\n",
    "import matplotlib.pyplot as plt\n",
    "from sklearn.preprocessing import LabelEncoder\n",
    "from sklearn.model_selection import train_test_split\n",
    "from sklearn.ensemble import RandomForestRegressor\n",
    "from sklearn.linear_model import LinearRegression\n",
    "import xgboost as xgb\n",
    "from sklearn.neighbors import KNeighborsRegressor\n",
    "from sklearn.tree import DecisionTreeRegressor\n",
    "from sklearn.metrics import mean_squared_error, mean_absolute_error\n",
    "from sklearn.gaussian_process.kernels import RBF\n",
    "from sklearn.preprocessing import PolynomialFeatures\n",
    "from sklearn.pipeline import make_pipeline\n",
    "import pandas as pd\n",
    "import warnings\n",
    "import plotly.express as px\n",
    "import seaborn as sns\n",
    "import matplotlib.pyplot as plt\n",
    "from sklearn.preprocessing import LabelEncoder\n",
    "from sklearn.neural_network import MLPRegressor\n",
    "from sklearn.ensemble import GradientBoostingRegressor\n",
    "import warnings\n",
    "warnings.filterwarnings('ignore')"
   ]
  },
  {
   "cell_type": "code",
   "execution_count": 19,
   "id": "d686a0ab",
   "metadata": {},
   "outputs": [
    {
     "data": {
      "text/html": [
       "<div>\n",
       "<style scoped>\n",
       "    .dataframe tbody tr th:only-of-type {\n",
       "        vertical-align: middle;\n",
       "    }\n",
       "\n",
       "    .dataframe tbody tr th {\n",
       "        vertical-align: top;\n",
       "    }\n",
       "\n",
       "    .dataframe thead th {\n",
       "        text-align: right;\n",
       "    }\n",
       "</style>\n",
       "<table border=\"1\" class=\"dataframe\">\n",
       "  <thead>\n",
       "    <tr style=\"text-align: right;\">\n",
       "      <th></th>\n",
       "      <th>id</th>\n",
       "      <th>name</th>\n",
       "      <th>host_id</th>\n",
       "      <th>host_name</th>\n",
       "      <th>neighbourhood_group</th>\n",
       "      <th>neighbourhood</th>\n",
       "      <th>latitude</th>\n",
       "      <th>longitude</th>\n",
       "      <th>room_type</th>\n",
       "      <th>price</th>\n",
       "      <th>minimum_nights</th>\n",
       "      <th>number_of_reviews</th>\n",
       "      <th>last_review</th>\n",
       "      <th>reviews_per_month</th>\n",
       "      <th>calculated_host_listings_count</th>\n",
       "      <th>availability_365</th>\n",
       "      <th>number_of_reviews_ltm</th>\n",
       "      <th>city</th>\n",
       "    </tr>\n",
       "  </thead>\n",
       "  <tbody>\n",
       "    <tr>\n",
       "      <th>0</th>\n",
       "      <td>958</td>\n",
       "      <td>Bright, Modern Garden Unit - 1BR/1BTH</td>\n",
       "      <td>1169</td>\n",
       "      <td>Holly</td>\n",
       "      <td>NaN</td>\n",
       "      <td>Western Addition</td>\n",
       "      <td>37.77028</td>\n",
       "      <td>-122.43317</td>\n",
       "      <td>Entire home/apt</td>\n",
       "      <td>202</td>\n",
       "      <td>2</td>\n",
       "      <td>383</td>\n",
       "      <td>2023-02-19</td>\n",
       "      <td>2.31</td>\n",
       "      <td>1</td>\n",
       "      <td>128</td>\n",
       "      <td>59</td>\n",
       "      <td>San Francisco</td>\n",
       "    </tr>\n",
       "    <tr>\n",
       "      <th>1</th>\n",
       "      <td>5858</td>\n",
       "      <td>Creative Sanctuary</td>\n",
       "      <td>8904</td>\n",
       "      <td>Philip And Tania</td>\n",
       "      <td>NaN</td>\n",
       "      <td>Bernal Heights</td>\n",
       "      <td>37.74474</td>\n",
       "      <td>-122.42089</td>\n",
       "      <td>Entire home/apt</td>\n",
       "      <td>235</td>\n",
       "      <td>30</td>\n",
       "      <td>111</td>\n",
       "      <td>2017-08-06</td>\n",
       "      <td>0.66</td>\n",
       "      <td>1</td>\n",
       "      <td>365</td>\n",
       "      <td>0</td>\n",
       "      <td>San Francisco</td>\n",
       "    </tr>\n",
       "    <tr>\n",
       "      <th>2</th>\n",
       "      <td>8142</td>\n",
       "      <td>Friendly Room Apt. Style -UCSF/USF - San Franc...</td>\n",
       "      <td>21994</td>\n",
       "      <td>Aaron</td>\n",
       "      <td>NaN</td>\n",
       "      <td>Haight Ashbury</td>\n",
       "      <td>37.76555</td>\n",
       "      <td>-122.45213</td>\n",
       "      <td>Private room</td>\n",
       "      <td>56</td>\n",
       "      <td>32</td>\n",
       "      <td>9</td>\n",
       "      <td>2022-10-27</td>\n",
       "      <td>0.09</td>\n",
       "      <td>13</td>\n",
       "      <td>365</td>\n",
       "      <td>1</td>\n",
       "      <td>San Francisco</td>\n",
       "    </tr>\n",
       "    <tr>\n",
       "      <th>3</th>\n",
       "      <td>8339</td>\n",
       "      <td>Historic Alamo Square Victorian</td>\n",
       "      <td>24215</td>\n",
       "      <td>Rosy</td>\n",
       "      <td>NaN</td>\n",
       "      <td>Western Addition</td>\n",
       "      <td>37.77564</td>\n",
       "      <td>-122.43642</td>\n",
       "      <td>Entire home/apt</td>\n",
       "      <td>575</td>\n",
       "      <td>9</td>\n",
       "      <td>28</td>\n",
       "      <td>2019-06-28</td>\n",
       "      <td>0.17</td>\n",
       "      <td>2</td>\n",
       "      <td>365</td>\n",
       "      <td>0</td>\n",
       "      <td>San Francisco</td>\n",
       "    </tr>\n",
       "    <tr>\n",
       "      <th>4</th>\n",
       "      <td>8739</td>\n",
       "      <td>Mission Sunshine, with Private Bath</td>\n",
       "      <td>7149</td>\n",
       "      <td>Ivan &amp; Wendy</td>\n",
       "      <td>NaN</td>\n",
       "      <td>Mission</td>\n",
       "      <td>37.76030</td>\n",
       "      <td>-122.42197</td>\n",
       "      <td>Private room</td>\n",
       "      <td>110</td>\n",
       "      <td>1</td>\n",
       "      <td>770</td>\n",
       "      <td>2023-02-25</td>\n",
       "      <td>4.65</td>\n",
       "      <td>2</td>\n",
       "      <td>159</td>\n",
       "      <td>34</td>\n",
       "      <td>San Francisco</td>\n",
       "    </tr>\n",
       "  </tbody>\n",
       "</table>\n",
       "</div>"
      ],
      "text/plain": [
       "     id                                               name  host_id  \\\n",
       "0   958              Bright, Modern Garden Unit - 1BR/1BTH     1169   \n",
       "1  5858                                 Creative Sanctuary     8904   \n",
       "2  8142  Friendly Room Apt. Style -UCSF/USF - San Franc...    21994   \n",
       "3  8339                    Historic Alamo Square Victorian    24215   \n",
       "4  8739                Mission Sunshine, with Private Bath     7149   \n",
       "\n",
       "          host_name neighbourhood_group     neighbourhood  latitude  \\\n",
       "0             Holly                 NaN  Western Addition  37.77028   \n",
       "1  Philip And Tania                 NaN    Bernal Heights  37.74474   \n",
       "2             Aaron                 NaN    Haight Ashbury  37.76555   \n",
       "3              Rosy                 NaN  Western Addition  37.77564   \n",
       "4      Ivan & Wendy                 NaN           Mission  37.76030   \n",
       "\n",
       "   longitude        room_type  price  minimum_nights  number_of_reviews  \\\n",
       "0 -122.43317  Entire home/apt    202               2                383   \n",
       "1 -122.42089  Entire home/apt    235              30                111   \n",
       "2 -122.45213     Private room     56              32                  9   \n",
       "3 -122.43642  Entire home/apt    575               9                 28   \n",
       "4 -122.42197     Private room    110               1                770   \n",
       "\n",
       "  last_review  reviews_per_month  calculated_host_listings_count  \\\n",
       "0  2023-02-19               2.31                               1   \n",
       "1  2017-08-06               0.66                               1   \n",
       "2  2022-10-27               0.09                              13   \n",
       "3  2019-06-28               0.17                               2   \n",
       "4  2023-02-25               4.65                               2   \n",
       "\n",
       "   availability_365  number_of_reviews_ltm           city  \n",
       "0               128                     59  San Francisco  \n",
       "1               365                      0  San Francisco  \n",
       "2               365                      1  San Francisco  \n",
       "3               365                      0  San Francisco  \n",
       "4               159                     34  San Francisco  "
      ]
     },
     "execution_count": 19,
     "metadata": {},
     "output_type": "execute_result"
    }
   ],
   "source": [
    "df = pd.read_csv(\"AB_US_2023.csv\")\n",
    "df.head()"
   ]
  },
  {
   "cell_type": "code",
   "execution_count": 4,
   "id": "e8f48ed4",
   "metadata": {},
   "outputs": [
    {
     "name": "stdout",
     "output_type": "stream",
     "text": [
      "<class 'pandas.core.frame.DataFrame'>\n",
      "RangeIndex: 232147 entries, 0 to 232146\n",
      "Data columns (total 14 columns):\n",
      " #   Column                          Non-Null Count   Dtype  \n",
      "---  ------                          --------------   -----  \n",
      " 0   neighbourhood_group             96500 non-null   string \n",
      " 1   neighbourhood                   232147 non-null  string \n",
      " 2   latitude                        232147 non-null  Float64\n",
      " 3   longitude                       232147 non-null  Float64\n",
      " 4   room_type                       232147 non-null  string \n",
      " 5   price                           232147 non-null  Int64  \n",
      " 6   minimum_nights                  232147 non-null  Int64  \n",
      " 7   number_of_reviews               232147 non-null  Int64  \n",
      " 8   last_review                     183062 non-null  string \n",
      " 9   reviews_per_month               183062 non-null  Float64\n",
      " 10  calculated_host_listings_count  232147 non-null  Int64  \n",
      " 11  availability_365                232147 non-null  Int64  \n",
      " 12  number_of_reviews_ltm           232147 non-null  Int64  \n",
      " 13  city                            232147 non-null  string \n",
      "dtypes: Float64(3), Int64(6), string(5)\n",
      "memory usage: 26.8 MB\n"
     ]
    }
   ],
   "source": [
    "listings_df = df.convert_dtypes()\n",
    "listings_df = listings_df[['neighbourhood_group','neighbourhood','latitude','longitude','room_type','price',\n",
    "                          'minimum_nights','number_of_reviews','last_review','reviews_per_month','calculated_host_listings_count',\n",
    "                          'availability_365','number_of_reviews_ltm','city']]\n",
    "listings_df.info()"
   ]
  },
  {
   "cell_type": "code",
   "execution_count": 5,
   "id": "eb25239b",
   "metadata": {},
   "outputs": [],
   "source": [
    "### Replacing missing values\n",
    "listings_df.drop('neighbourhood_group', axis=1, inplace=True)\n",
    "listings_df['last_review'] = listings_df['last_review'].fillna('0000-01-01')\n",
    "listings_df['reviews_per_month'] = listings_df['reviews_per_month'].fillna(0)\n",
    "\n",
    "### Capping outliers\n",
    "upper_bound = 0.95\n",
    "listings_df.loc[listings_df['price'] >= listings_df['price'].quantile(upper_bound), ['price']] = listings_df['price'].quantile(upper_bound)\n",
    "listings_df.loc[listings_df['minimum_nights'] >= listings_df['minimum_nights'].quantile(upper_bound), ['minimum_nights']] = listings_df['minimum_nights'].quantile(upper_bound)\n",
    "\n",
    "### categorizing data\n",
    "to_categorical_list = ['neighbourhood','last_review','room_type','city']\n",
    "for i in to_categorical_list:\n",
    "    listings_df[i]=listings_df[i].astype('category')\n",
    "    \n",
    "labelencoder = LabelEncoder()\n",
    "for i in to_categorical_list:\n",
    "    listings_df[i] = labelencoder.fit_transform(listings_df[i])\n",
    "    \n",
    "### Droping columns with no corelation with price\n",
    "df1 = listings_df.drop(['calculated_host_listings_count','neighbourhood'], axis=1)"
   ]
  },
  {
   "cell_type": "markdown",
   "id": "2b306ab7",
   "metadata": {},
   "source": [
    "### Predictive Modelling\n",
    "\n",
    "#### a. Select an appropriate predictive model for your problem. Explain your choice. \n",
    "The business problem that was chosen in Assignment was to built a model to predict the rental price for properties based on various features like location, number of bedrooms, amenities, etc. So, in order to use the predictive models, we have tried below models for our prediction.\n",
    "* __Random Forest__: Random Forest is an ensemble learning method that combines multiple decision trees. It is known for its high accuracy, robustness to outliers, and ability to handle a large number of features. It can capture complex relationships between variables and handle both numerical and categorical data. Random Forest is also less prone to overfitting compared to individual decision trees.\n",
    "* __Linear Regression__: Linear Regression is a simple and interpretable model that assumes a linear relationship between the input variables and the target variable. It is widely used when the relationship between the features and the target is expected to be linear. Linear Regression is computationally efficient, provides coefficient values that indicate the importance of each feature, and can handle large datasets.\n",
    "* __XGBoost__: XGBoost (Extreme Gradient Boosting) is a powerful gradient boosting framework that uses an ensemble of weak prediction models (decision trees) to make accurate predictions. XGBoost is known for its speed, scalability, and ability to handle complex non-linear relationships. It incorporates regularization techniques to prevent overfitting and provides feature importance scores.\n",
    "* __MLP (Multi-Layer Perceptron)__: MLP is a type of artificial neural network that consists of multiple layers of interconnected nodes (neurons). It can learn complex patterns and non-linear relationships between variables. MLP is suitable for regression tasks when there is a need to capture non-linear interactions among features. It can handle a wide range of data types and has the potential to approximate any continuous function given enough hidden units and training data.\n",
    "* __Gradient Boosting models__: Gradient Boosting is a general ensemble learning technique that combines multiple weak models (typically decision trees) to create a strong predictive model. It iteratively trains new models to correct the errors made by the previous models, resulting in improved predictions. Gradient Boosting models, such as Gradient Boosted Regression Trees (GBRT), are known for their high predictive accuracy, ability to handle complex relationships, and flexibility in handling different types of data."
   ]
  },
  {
   "cell_type": "markdown",
   "id": "f70a3c20",
   "metadata": {},
   "source": [
    "#### b. Partition the dataset into a training set and a test set. Describe the method you used for this.\n",
    "The train_test_split function from sklearn is used in to split the dataset into two subsets: the training set and the test set. train_test_split allows to train machine learning model on the training set and then evaluate its performance on the unseen test set. This helps assess how well the model generalizes to new, unseen data and aids in tuning hyperparameters, preventing overfitting, and obtaining unbiased performance estimates.\n",
    "In the code below, train_test_split(X, y, test_size=0.2, random_state=42) splits the data X and target variable y into the training set (X_train, y_train) and the test set (X_test, y_test). The test set is 20% of the original data, indicated by test_size=0.2, and the random state is set to 42 to ensure the same split is obtained each time the code is run.\n",
    "#### c. Train the model on the training set. Discuss the parameters you used and why.\n",
    "Only 'n_estimators' was used in Random Forest as a non-default parameter which specifies the number of decision trees to be included in the random forest. In this case, n_estimators=100 means that 100 decision trees was used in the random forest ensemble. Increasing the number of estimators can improve the performance of the model, but it also increases computational complexity. Other models are run with their default parameters.\n",
    "#### d. Evaluate the model's performance on the test set. Discuss the evaluation metrics used and the results.\n",
    "__Mean Squared Error (MSE), Root Mean Square Error (RMSE), and R-squared (R2) score__ are used as the evaluation metrics for regression models:\n",
    "* __Mean Squared Error (MSE)__: MSE measures the average squared difference between the predicted and actual values of the target variable. It provides a measure of the average magnitude of errors. MSE penalizes larger errors more heavily due to the squaring operation. MSE is widely used as it is continuous, differentiable, and easy to interpret. Lower MSE values indicate better model performance, with a value of 0 indicating a perfect fit.\n",
    "* __Root Mean Square Error (RMSE)__: RMSE is the square root of MSE and is considered a more interpretable metric as it is in the same unit as the target variable. RMSE provides a measure of the average magnitude of errors in the original scale of the target variable. It is useful for understanding the typical deviation of the model's predictions from the actual values. Like MSE, lower RMSE values indicate better model performance.\n",
    "* __R-squared (R2) score__: R2 score represents the proportion of the variance in the target variable that is predictable from the input features. It indicates the goodness of fit of the regression model to the data. R2 score ranges between 0 and 1, where 0 indicates that the model explains none of the variability of the target variable, and 1 indicates that the model perfectly predicts the target variable. R2 score is commonly used to assess the overall performance and predictive power of the regression model. Higher R2 values indicate better model fit to the data.\n",
    "\n",
    "#### e. Interpret the model. Explain what it reveals about the prediction subject and its domainconcepts.\n",
    "In our case, RandomForest and XGBoost have performed the best among all the models by having the R2 score as 0.46 and 0.44 respectively. In summary, the RandomForest model has a moderate level of explanatory power with an R2 score of 0.46, indicating that it captures a reasonable portion of the target variable's variability. However, the RMSE of 116 suggests that there is room for improvement in reducing the prediction errors. "
   ]
  },
  {
   "cell_type": "code",
   "execution_count": 8,
   "id": "ffc83f12",
   "metadata": {},
   "outputs": [],
   "source": [
    "X = df1.drop('price', axis=1)\n",
    "y = df1['price']\n",
    "\n",
    "# Split the data into train and test sets\n",
    "X_train, X_test, y_train, y_test = train_test_split(X, y, test_size=0.2, random_state=42)"
   ]
  },
  {
   "cell_type": "code",
   "execution_count": 20,
   "id": "96af906c",
   "metadata": {
    "scrolled": true
   },
   "outputs": [
    {
     "name": "stdout",
     "output_type": "stream",
     "text": [
      "MSE:  13502.04032378184\n",
      "RMSE:  116.19828021008675\n",
      "R-squared (R2): 0.46922160693708714\n"
     ]
    }
   ],
   "source": [
    "rfg=RandomForestRegressor(n_estimators=100)\n",
    "model=rfg.fit(X_train, y_train)  \n",
    "y_pred = model.predict(X_test)\n",
    "\n",
    "print('MSE: ',mean_squared_error(y_test, y_pred))\n",
    "print('RMSE: ',np.sqrt(mean_squared_error(y_test, y_pred)))\n",
    "print(\"R-squared (R2):\", model.score(X_test, y_test))"
   ]
  },
  {
   "cell_type": "code",
   "execution_count": 21,
   "id": "8526eef9",
   "metadata": {},
   "outputs": [
    {
     "name": "stdout",
     "output_type": "stream",
     "text": [
      "MSE:  20090.730395952745\n",
      "RMSE:  141.741773644726\n",
      "R-squared (R2): 0.21021376478624132\n"
     ]
    }
   ],
   "source": [
    "model = LinearRegression()\n",
    "model.fit(X_train, y_train)\n",
    "y_pred = model.predict(X_test)\n",
    "\n",
    "print('MSE: ',mean_squared_error(y_test, y_pred))\n",
    "print('RMSE: ',np.sqrt(mean_squared_error(y_test, y_pred)))\n",
    "print(\"R-squared (R2):\", model.score(X_test, y_test))"
   ]
  },
  {
   "cell_type": "code",
   "execution_count": 22,
   "id": "c20e757b",
   "metadata": {},
   "outputs": [
    {
     "name": "stdout",
     "output_type": "stream",
     "text": [
      "MSE:  14055.01107152276\n",
      "RMSE:  118.5538319563006\n",
      "R-squared (R2): 0.44748378673670175\n"
     ]
    }
   ],
   "source": [
    "model = xgb.XGBRegressor()\n",
    "model.fit(X_train, y_train)\n",
    "y_pred = model.predict(X_test)\n",
    "\n",
    "print('MSE: ',mean_squared_error(y_test, y_pred))\n",
    "print('RMSE: ',np.sqrt(mean_squared_error(y_test, y_pred)))\n",
    "print(\"R-squared (R2):\", model.score(X_test, y_test))"
   ]
  },
  {
   "cell_type": "code",
   "execution_count": 23,
   "id": "11df5815",
   "metadata": {},
   "outputs": [
    {
     "name": "stdout",
     "output_type": "stream",
     "text": [
      "MSE:  18449.512626938707\n",
      "RMSE:  135.8289830151824\n",
      "R-squared (R2): 0.2747316383234145\n"
     ]
    }
   ],
   "source": [
    "model = MLPRegressor(random_state=42)\n",
    "model.fit(X_train, y_train)\n",
    "y_pred = model.predict(X_test)\n",
    "\n",
    "print('MSE: ',mean_squared_error(y_test, y_pred))\n",
    "print('RMSE: ',np.sqrt(mean_squared_error(y_test, y_pred)))\n",
    "print(\"R-squared (R2):\", model.score(X_test, y_test))"
   ]
  },
  {
   "cell_type": "code",
   "execution_count": 24,
   "id": "304efee9",
   "metadata": {},
   "outputs": [
    {
     "name": "stdout",
     "output_type": "stream",
     "text": [
      "MSE:  17227.62968594299\n",
      "RMSE:  131.25406540729696\n",
      "R-squared (R2): 0.32276505019157276\n"
     ]
    }
   ],
   "source": [
    "model = GradientBoostingRegressor(random_state=42)\n",
    "model.fit(X_train, y_train)\n",
    "y_pred = model.predict(X_test)\n",
    "\n",
    "print('MSE: ',mean_squared_error(y_test, y_pred))\n",
    "print('RMSE: ',np.sqrt(mean_squared_error(y_test, y_pred)))\n",
    "print(\"R-squared (R2):\", model.score(X_test, y_test))"
   ]
  },
  {
   "cell_type": "markdown",
   "id": "8393680c",
   "metadata": {},
   "source": [
    "### Model Tuning\n",
    "#### a. Explain how you can tune the model. What parameters can you adjust? \n",
    "* In Random Forest regression, __n_estimators__ and __min_samples_leaf__ are hyperparameters that can be tuned to optimize the performance of the model. __n_estimators__ represents the number of decision trees to be used in the Random Forest. Each tree in the forest is built using a random subset of the training data, and the final prediction is the average (or majority vote) of the predictions from all the trees. Increasing the number of estimators can improve the model's performance, up to a certain point where adding more trees may have diminishing returns or lead to overfitting.__min_samples_leaf__ is the minimum number of samples required to be at a leaf node in a decision tree. It determines the minimum size of a leaf node, and if the number of samples at a leaf node falls below this value during the tree-building process, the node will not be split further. Setting a higher value for min_samples_leaf can prevent overfitting by enforcing a more general tree structure, but it may also increase bias in the model.\n",
    "* Also, an ensemble approach can be used where two base models, can be trained on the same training data. The predictions of these base models on the test data can then be combined to create a new feature matrix by horizontally stacking the predicted values. Subsequently, a Random Forest regressor (or any other model) can be initialized and trained on the new feature matrix along with the target variable.  \n",
    "\n",
    "#### b. Tune the model. Explain the method you used and why.\n",
    "After exploring different combinations of inputs for __n_estimators__ and __min_samples_leaf__, we found that setting __n_estimators = 200__ and __min_samples_leaf = 2__ produced the best outcome compared to other values. Additionally, the ensemble approach, which involved using __Linear Regression__ and __XGBoost__ as the base models and __Random Forest__ as the ensemble model, yielded the most favorable results. The ensemble model achieved an RMSE of 47 and an R2 score of 0.9. We arrived at these conclusions after trying various permutations and combinations of the models discussed in section 1.\n",
    "\n",
    "#### c. Compare the performance of the tuned model with the initial model. Explain any changes.\n",
    "In the beginning, the initial RandomForest model achieved an R2 score of 0.46. However, after implementing the ensemble approach, the model showed significant improvement, and the R2 score increased to 0.91. This improvement is substantial and indicates a much better performance compared to the initial score."
   ]
  },
  {
   "cell_type": "code",
   "execution_count": null,
   "id": "2a38f814",
   "metadata": {},
   "outputs": [],
   "source": [
    "### We were running Grid Search to find the best parameters and score, but it took forever to run. Hence we \n",
    "### manually computed the best results by running with each and every permutation and combination of the hyperparameters.\n",
    "\n",
    "from sklearn.ensemble import RandomForestRegressor\n",
    "from sklearn.model_selection import GridSearchCV\n",
    "\n",
    "# Define the parameter grid\n",
    "param_grid = {\n",
    "    'n_estimators': [50, 100, 200, 300],\n",
    "    'min_samples_leaf': [1, 2, 3, 4]\n",
    "}\n",
    "\n",
    "# Create the Random Forest regressor\n",
    "rf_model = RandomForestRegressor()\n",
    "\n",
    "# Create the GridSearchCV object\n",
    "grid_search = GridSearchCV(estimator=rf_model, param_grid=param_grid, cv=5)\n",
    "\n",
    "# Fit the grid search to the training data\n",
    "grid_search.fit(X_train, y_train)\n",
    "\n",
    "# Get the best parameters and best score\n",
    "best_params = grid_search.best_params_\n",
    "best_score = grid_search.best_score_\n",
    "\n",
    "print(\"Best parameters:\", best_params)\n",
    "print(\"Best score:\", best_score)"
   ]
  },
  {
   "cell_type": "code",
   "execution_count": 25,
   "id": "b8b595c1",
   "metadata": {},
   "outputs": [
    {
     "name": "stdout",
     "output_type": "stream",
     "text": [
      "MSE:  13337.115381542237\n",
      "RMSE:  115.48642942589504\n",
      "R-squared (R2): 0.4757049675047299\n"
     ]
    }
   ],
   "source": [
    "rfg=RandomForestRegressor(n_estimators=200,min_samples_leaf=2)\n",
    "model=rfg.fit(X_train, y_train)  \n",
    "y_pred = model.predict(X_test)\n",
    "\n",
    "print('MSE: ',mean_squared_error(y_test, y_pred))\n",
    "print('RMSE: ',np.sqrt(mean_squared_error(y_test, y_pred)))\n",
    "print(\"R-squared (R2):\", model.score(X_test, y_test))"
   ]
  },
  {
   "cell_type": "code",
   "execution_count": 27,
   "id": "d4626532",
   "metadata": {},
   "outputs": [
    {
     "name": "stdout",
     "output_type": "stream",
     "text": [
      "MSE of Linear Regression: 20090.730395952745\n",
      "MSE of XGBoost: 14055.01107152276\n",
      "MSE of Ensemble Model: 2281.4036178990414\n",
      "\n",
      "\n",
      "RMSE of Linear Regression: 141.741773644726\n",
      "RMSE of XGBoost: 118.5538319563006\n",
      "RMSE of Ensemble Model: 47.764041054950965\n",
      "\n",
      "\n",
      "R-squared (R2) of the Ensemble Model: 0.9103157954502985\n"
     ]
    },
    {
     "data": {
      "image/png": "[encoded data removed]",
      "text/plain": [
       "<Figure size 640x480 with 1 Axes>"
      ]
     },
     "metadata": {},
     "output_type": "display_data"
    }
   ],
   "source": [
    "# Initialize base models\n",
    "modelLR = LinearRegression()\n",
    "modelxgb = xgb.XGBRegressor()\n",
    "\n",
    "modelLR.fit(X_train, y_train)\n",
    "modelxgb.fit(X_train, y_train)\n",
    "\n",
    "predLR = modelLR.predict(X_test)\n",
    "predxgb = modelxgb.predict(X_test)\n",
    "\n",
    "# Create a new feature matrix with the predictions from the base models\n",
    "X_testRF = np.column_stack((predLR, predxgb))\n",
    "\n",
    "#Initialize main model\n",
    "model = RandomForestRegressor()\n",
    "model.fit(X_testRF, y_test)\n",
    "pred = model.predict(X_testRF)\n",
    "\n",
    "# Calculate the MSE\n",
    "mse = mean_squared_error(y_test, pred)\n",
    "mseLR = mean_squared_error(y_test, predLR)\n",
    "msexgb = mean_squared_error(y_test, predxgb)\n",
    "print(\"MSE of Linear Regression:\", mseLR)\n",
    "print(\"MSE of XGBoost:\", msexgb)\n",
    "print(\"MSE of Ensemble Model:\", mse)\n",
    "print('\\n')\n",
    "\n",
    "# Calculate the RMSE\n",
    "rmse = np.sqrt(mse)\n",
    "rmseLR = np.sqrt(mseLR)\n",
    "rmsexgb = np.sqrt(msexgb)\n",
    "print(\"RMSE of Linear Regression:\", rmseLR)\n",
    "print(\"RMSE of XGBoost:\", rmsexgb)\n",
    "print(\"RMSE of Ensemble Model:\", rmse)\n",
    "print('\\n')\n",
    "\n",
    "# Calculate the R-squared (R2) score\n",
    "r2 = model.score(X_testRF, y_test)\n",
    "print(\"R-squared (R2) of the Ensemble Model:\", r2)\n",
    "\n",
    "# Plotting the predicted prices vs. original prices\n",
    "plt.scatter(y_test, pred, color='b', label='Predicted Price')\n",
    "plt.plot([min(y_test), max(y_test)], [min(y_test), max(y_test)], color='r', label='Ideal Price')\n",
    "plt.xlabel('Original Price')\n",
    "plt.ylabel('Predicted Price')\n",
    "plt.title('Predicted vs. Original Price')\n",
    "plt.legend()\n",
    "plt.show()"
   ]
  },
  {
   "cell_type": "markdown",
   "id": "4393697f",
   "metadata": {},
   "source": [
    "### Model Deployment\n",
    "#### a. What are the potential issues that might arise during deployment. Moreover, how would you address such deployment issues?\n",
    "Potential deployment issues that might arise based on the provided results are:\n",
    "\n",
    "* __Performance on unseen data__: The model's performance metrics, such as MSE and RMSE, have been calculated on the test set. However, the model's performance on new, unseen data is unknown. The model might not generalize well to real-world data, leading to poor performance in production.\n",
    "* __Overfitting__: The model may be overfitting the training data, resulting in lower performance on unseen data. This can be indicated by a significant difference between the training and test performance metrics. It's essential to ensure the model's generalization ability and prevent overfitting during deployment.\n",
    "* __Model complexity__: The ensemble model involving multiple base models might introduce additional complexity, making the deployment process more challenging. Ensuring efficient and scalable deployment of the ensemble model is crucial.\n",
    "\n",
    "To address these deployment issues, we can consider the following steps:\n",
    "\n",
    "* *Evaluate model performance on unseen data*: Collect new data or gather additional validation sets to evaluate the model's performance on unseen data. This step helps assess whether the model's performance holds up in real-world scenarios.\n",
    "* *Regularization techniques*: Implement regularization techniques, such as L1 or L2 regularization, to mitigate overfitting issues. Regularization helps in controlling model complexity and encourages simpler models that generalize better to unseen data.\n",
    "* *Model monitoring and maintenance*: Continuously monitor the performance of the deployed model and regularly update it as new data becomes available. This ensures that the model remains effective and accurate over time.\n",
    "* *Scalable deployment*: Consider the computational requirements and scalability of the ensemble model during deployment. Optimize the deployment infrastructure to handle the computational load efficiently, especially if the ensemble model involves multiple base models.\n",
    "* *Error analysis and improvement iterations*: Conduct thorough error analysis to identify the limitations and shortcomings of the deployed model. Gather feedback from end-users or domain experts and iterate on the model to address the identified issues and improve its performance.\n",
    "\n",
    "### Conclusion\n",
    "#### a. Summarize your findings and the value of your solution to the business problem.\n",
    "The ensemble model, consisting of Linear Regression and XGBoost as base models and Random Forest as the ensemble model, has demonstrated promising performance for predicting rental prices based on various property features. The findings from the model evaluation are as follows:\n",
    "\n",
    "* MSE Comparison: The ensemble model achieved the lowest MSE of 2281.40 compared to the individual Linear Regression model with an MSE of 20090.73 and the XGBoost model with an MSE of 14055.01. This indicates that the ensemble model outperformed the individual models in terms of prediction accuracy.\n",
    "* RMSE Comparison: The ensemble model also exhibited the lowest RMSE of 47.76, which indicates that the average prediction error is relatively small compared to the RMSE of 141.74 for Linear Regression and 118.55 for XGBoost. A lower RMSE signifies better accuracy in predicting rental prices.\n",
    "* R-squared (R2) Score: The ensemble model achieved an impressive R2 score of 0.9103, which indicates that around 91.03% of the variance in rental prices can be explained by the model. This suggests a strong relationship between the predicted and actual rental prices, further emphasizing the model's predictive power.\n",
    "\n",
    "Overall, the ensemble model combining multiple base models has proven to be a valuable solution for the business problem of predicting rental prices. By leveraging the strengths of Linear Regression and XGBoost models and aggregating their predictions using Random Forest, the ensemble model provides enhanced accuracy and predictive performance. This can assist the business in making informed decisions related to rental pricing, optimizing resource allocation, and improving competitiveness in the real estate market. The model's ability to accurately estimate rental prices based on various property features can contribute to better decision-making, pricing strategies, and overall business success.\n",
    "\n",
    "#### b. Identify potential areas for further analysis or improvements.\n",
    "Based on the results and value of the current ensemble model, below are the potential areas for further analysis and improvements:\n",
    "* *Feature Engineering*: Explore additional features or combinations of features that may have a stronger correlation with rental prices for example the \"name\" attribute. We could convert these names of the listings to vectors using  sentence encoding which could add more value to the model. Also, analyzing the impact of specific amenities, neighborhood characteristics, or other factors that were not included in the current model.\n",
    "* *Hyperparameter Tuning*: Perform a more extensive grid search or use advanced techniques like Bayesian optimization to find the optimal hyperparameters for each individual model (Linear Regression, XGBoost) as well as the ensemble model (Random Forest). Fine-tuning the hyperparameters can further improve the performance of the models.\n",
    "* *Model Selection*: Experiment with different combinations of base models in the ensemble. Consider including other models like Support Vector Regression (SVR) or Neural Networks. We did use MLP but further computation is needed."
   ]
  },
  {
   "cell_type": "markdown",
   "id": "93cc3700",
   "metadata": {},
   "source": [
    "### References:\n",
    "\n",
    "1. https://medium.com/ibm-data-science-experience/markdown-for-jupyter-notebooks-cheatsheet-386c05aeebed <a id='3'></a>\n",
    "2. https://stackoverflow.com/questions/32011359/convert-categorical-data-in-pandas-dataframe\n",
    "3. Tutorial_3_Families_of_Supervised_Models\n",
    "4. Tutorial_4_Ensemble_Learning\n",
    "5. https://scikit-learn.org/stable/modules/grid_search.html"
   ]
  }
 ],
 "metadata": {
  "kernelspec": {
   "display_name": "Python 3 (ipykernel)",
   "language": "python",
   "name": "python3"
  },
  "language_info": {
   "codemirror_mode": {
    "name": "ipython",
    "version": 3
   },
   "file_extension": ".py",
   "mimetype": "text/x-python",
   "name": "python",
   "nbconvert_exporter": "python",
   "pygments_lexer": "ipython3",
   "version": "3.11.3"
  }
 },
 "nbformat": 4,
 "nbformat_minor": 5
}
