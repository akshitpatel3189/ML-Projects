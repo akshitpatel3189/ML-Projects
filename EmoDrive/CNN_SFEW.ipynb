{
 "cells": [
  {
   "cell_type": "code",
   "execution_count": 1,
   "id": "5468ce48",
   "metadata": {},
   "outputs": [
    {
     "name": "stderr",
     "output_type": "stream",
     "text": [
      "2024-04-06 02:07:42.068440: E tensorflow/compiler/xla/stream_executor/cuda/cuda_dnn.cc:9342] Unable to register cuDNN factory: Attempting to register factory for plugin cuDNN when one has already been registered\n",
      "2024-04-06 02:07:42.068576: E tensorflow/compiler/xla/stream_executor/cuda/cuda_fft.cc:609] Unable to register cuFFT factory: Attempting to register factory for plugin cuFFT when one has already been registered\n",
      "2024-04-06 02:07:42.068659: E tensorflow/compiler/xla/stream_executor/cuda/cuda_blas.cc:1518] Unable to register cuBLAS factory: Attempting to register factory for plugin cuBLAS when one has already been registered\n",
      "2024-04-06 02:07:42.111358: I tensorflow/core/platform/cpu_feature_guard.cc:182] This TensorFlow binary is optimized to use available CPU instructions in performance-critical operations.\n",
      "To enable the following instructions: AVX2 FMA, in other operations, rebuild TensorFlow with the appropriate compiler flags.\n",
      "2024-04-06 02:07:44.925998: W tensorflow/compiler/tf2tensorrt/utils/py_utils.cc:38] TF-TRT Warning: Could not find TensorRT\n"
     ]
    }
   ],
   "source": [
    "from keras.utils import to_categorical\n",
    "from keras_preprocessing.image import load_img\n",
    "from keras.models import Sequential, model_from_json\n",
    "from keras.layers import Dense, Conv2D, Dropout, Flatten, MaxPooling2D\n",
    "from keras.models import Sequential\n",
    "from keras.callbacks import ModelCheckpoint\n",
    "import os\n",
    "import tensorflow as tf\n",
    "import pandas as pd\n",
    "import numpy as np\n",
    "from sklearn.preprocessing import LabelEncoder\n",
    "import matplotlib.pyplot as plt\n",
    "%matplotlib inline\n",
    "os.environ[\"CUDA_VISIBLE_DEVICES\"] = \"\"  # Set CUDA_VISIBLE_DEVICES to an empty string"
   ]
  },
  {
   "cell_type": "markdown",
   "id": "80cddb3d",
   "metadata": {},
   "source": [
    "## Load Dataset"
   ]
  },
  {
   "cell_type": "code",
   "execution_count": 2,
   "id": "89759b32",
   "metadata": {},
   "outputs": [],
   "source": [
    "TRAIN_DIR_NEW = 'SFEW/Train'\n",
    "VAL_DIR_NEW = 'SFEW/Val'"
   ]
  },
  {
   "cell_type": "markdown",
   "id": "1a590c55",
   "metadata": {},
   "source": [
    "## Create dataframe from dataset folder of images"
   ]
  },
  {
   "cell_type": "code",
   "execution_count": 3,
   "id": "428651ed",
   "metadata": {},
   "outputs": [],
   "source": [
    "def createdataframe(dir):\n",
    "    image_paths = []\n",
    "    labels = []\n",
    "    for label in os.listdir(dir):\n",
    "        for imagename in os.listdir(os.path.join(dir,label)):\n",
    "            image_paths.append(os.path.join(dir,label,imagename))\n",
    "            labels.append(label)\n",
    "        print(label, \"completed\")\n",
    "    return image_paths,labels"
   ]
  },
  {
   "cell_type": "markdown",
   "id": "495a65b5",
   "metadata": {},
   "source": [
    "## Dataframe of train and test model"
   ]
  },
  {
   "cell_type": "code",
   "execution_count": 4,
   "id": "5dd19af2",
   "metadata": {},
   "outputs": [
    {
     "name": "stdout",
     "output_type": "stream",
     "text": [
      "Sad completed\n",
      "Neutral completed\n",
      "Surprise completed\n",
      "Happy completed\n",
      "Fear completed\n",
      "Angry completed\n",
      "Disgust completed\n"
     ]
    }
   ],
   "source": [
    "train_new = pd.DataFrame()\n",
    "train_new['image'], train_new['label'] = createdataframe(TRAIN_DIR_NEW)"
   ]
  },
  {
   "cell_type": "code",
   "execution_count": 5,
   "id": "d66aff9d",
   "metadata": {},
   "outputs": [
    {
     "name": "stdout",
     "output_type": "stream",
     "text": [
      "Sad completed\n",
      "Neutral completed\n",
      "Surprise completed\n",
      "Happy completed\n",
      "Fear completed\n",
      "Angry completed\n",
      "Disgust completed\n"
     ]
    }
   ],
   "source": [
    "val_new = pd.DataFrame()\n",
    "val_new['image'], val_new['label'] = createdataframe(VAL_DIR_NEW)"
   ]
  },
  {
   "cell_type": "code",
   "execution_count": 6,
   "id": "285c9dff",
   "metadata": {},
   "outputs": [],
   "source": [
    "def extract_features(images):\n",
    "    features = []\n",
    "    for image in images:\n",
    "        img = load_img(image)\n",
    "        img = np.array(img)\n",
    "        features.append(img)\n",
    "    features = np.array(features)\n",
    "    features = features.reshape(len(features), 720, 576, 3)\n",
    "    return features"
   ]
  },
  {
   "cell_type": "code",
   "execution_count": 7,
   "id": "fe6c5fa7",
   "metadata": {},
   "outputs": [],
   "source": [
    "train_features_new = extract_features(train_new['image'])"
   ]
  },
  {
   "cell_type": "code",
   "execution_count": 8,
   "id": "a81cdea5",
   "metadata": {},
   "outputs": [],
   "source": [
    "val_features_new = extract_features(val_new['image'])"
   ]
  },
  {
   "cell_type": "markdown",
   "id": "a834af61",
   "metadata": {},
   "source": [
    "### Devide train and test feature with highest value of pixals"
   ]
  },
  {
   "cell_type": "code",
   "execution_count": 9,
   "id": "1f137ab7",
   "metadata": {},
   "outputs": [],
   "source": [
    "x_train_new = train_features_new / 255.0\n",
    "x_val_new = val_features_new / 255.0"
   ]
  },
  {
   "cell_type": "markdown",
   "id": "6651ee0d",
   "metadata": {},
   "source": [
    "### Encoding Label to numerical formet"
   ]
  },
  {
   "cell_type": "code",
   "execution_count": 10,
   "id": "e0e4caaf",
   "metadata": {},
   "outputs": [
    {
     "data": {
      "text/html": [
       "<style>#sk-container-id-1 {color: black;}#sk-container-id-1 pre{padding: 0;}#sk-container-id-1 div.sk-toggleable {background-color: white;}#sk-container-id-1 label.sk-toggleable__label {cursor: pointer;display: block;width: 100%;margin-bottom: 0;padding: 0.3em;box-sizing: border-box;text-align: center;}#sk-container-id-1 label.sk-toggleable__label-arrow:before {content: \"▸\";float: left;margin-right: 0.25em;color: #696969;}#sk-container-id-1 label.sk-toggleable__label-arrow:hover:before {color: black;}#sk-container-id-1 div.sk-estimator:hover label.sk-toggleable__label-arrow:before {color: black;}#sk-container-id-1 div.sk-toggleable__content {max-height: 0;max-width: 0;overflow: hidden;text-align: left;background-color: #f0f8ff;}#sk-container-id-1 div.sk-toggleable__content pre {margin: 0.2em;color: black;border-radius: 0.25em;background-color: #f0f8ff;}#sk-container-id-1 input.sk-toggleable__control:checked~div.sk-toggleable__content {max-height: 200px;max-width: 100%;overflow: auto;}#sk-container-id-1 input.sk-toggleable__control:checked~label.sk-toggleable__label-arrow:before {content: \"▾\";}#sk-container-id-1 div.sk-estimator input.sk-toggleable__control:checked~label.sk-toggleable__label {background-color: #d4ebff;}#sk-container-id-1 div.sk-label input.sk-toggleable__control:checked~label.sk-toggleable__label {background-color: #d4ebff;}#sk-container-id-1 input.sk-hidden--visually {border: 0;clip: rect(1px 1px 1px 1px);clip: rect(1px, 1px, 1px, 1px);height: 1px;margin: -1px;overflow: hidden;padding: 0;position: absolute;width: 1px;}#sk-container-id-1 div.sk-estimator {font-family: monospace;background-color: #f0f8ff;border: 1px dotted black;border-radius: 0.25em;box-sizing: border-box;margin-bottom: 0.5em;}#sk-container-id-1 div.sk-estimator:hover {background-color: #d4ebff;}#sk-container-id-1 div.sk-parallel-item::after {content: \"\";width: 100%;border-bottom: 1px solid gray;flex-grow: 1;}#sk-container-id-1 div.sk-label:hover label.sk-toggleable__label {background-color: #d4ebff;}#sk-container-id-1 div.sk-serial::before {content: \"\";position: absolute;border-left: 1px solid gray;box-sizing: border-box;top: 0;bottom: 0;left: 50%;z-index: 0;}#sk-container-id-1 div.sk-serial {display: flex;flex-direction: column;align-items: center;background-color: white;padding-right: 0.2em;padding-left: 0.2em;position: relative;}#sk-container-id-1 div.sk-item {position: relative;z-index: 1;}#sk-container-id-1 div.sk-parallel {display: flex;align-items: stretch;justify-content: center;background-color: white;position: relative;}#sk-container-id-1 div.sk-item::before, #sk-container-id-1 div.sk-parallel-item::before {content: \"\";position: absolute;border-left: 1px solid gray;box-sizing: border-box;top: 0;bottom: 0;left: 50%;z-index: -1;}#sk-container-id-1 div.sk-parallel-item {display: flex;flex-direction: column;z-index: 1;position: relative;background-color: white;}#sk-container-id-1 div.sk-parallel-item:first-child::after {align-self: flex-end;width: 50%;}#sk-container-id-1 div.sk-parallel-item:last-child::after {align-self: flex-start;width: 50%;}#sk-container-id-1 div.sk-parallel-item:only-child::after {width: 0;}#sk-container-id-1 div.sk-dashed-wrapped {border: 1px dashed gray;margin: 0 0.4em 0.5em 0.4em;box-sizing: border-box;padding-bottom: 0.4em;background-color: white;}#sk-container-id-1 div.sk-label label {font-family: monospace;font-weight: bold;display: inline-block;line-height: 1.2em;}#sk-container-id-1 div.sk-label-container {text-align: center;}#sk-container-id-1 div.sk-container {/* jupyter's `normalize.less` sets `[hidden] { display: none; }` but bootstrap.min.css set `[hidden] { display: none !important; }` so we also need the `!important` here to be able to override the default hidden behavior on the sphinx rendered scikit-learn.org. See: https://github.com/scikit-learn/scikit-learn/issues/21755 */display: inline-block !important;position: relative;}#sk-container-id-1 div.sk-text-repr-fallback {display: none;}</style><div id=\"sk-container-id-1\" class=\"sk-top-container\"><div class=\"sk-text-repr-fallback\"><pre>LabelEncoder()</pre><b>In a Jupyter environment, please rerun this cell to show the HTML representation or trust the notebook. <br />On GitHub, the HTML representation is unable to render, please try loading this page with nbviewer.org.</b></div><div class=\"sk-container\" hidden><div class=\"sk-item\"><div class=\"sk-estimator sk-toggleable\"><input class=\"sk-toggleable__control sk-hidden--visually\" id=\"sk-estimator-id-1\" type=\"checkbox\" checked><label for=\"sk-estimator-id-1\" class=\"sk-toggleable__label sk-toggleable__label-arrow\">LabelEncoder</label><div class=\"sk-toggleable__content\"><pre>LabelEncoder()</pre></div></div></div></div></div>"
      ],
      "text/plain": [
       "LabelEncoder()"
      ]
     },
     "execution_count": 10,
     "metadata": {},
     "output_type": "execute_result"
    }
   ],
   "source": [
    "le = LabelEncoder()\n",
    "le.fit(train_new['label'])\n",
    "le.fit(val_new['label'])"
   ]
  },
  {
   "cell_type": "code",
   "execution_count": 11,
   "id": "de3c8db0",
   "metadata": {},
   "outputs": [],
   "source": [
    "y_train_new = le.transform(train_new['label'])\n",
    "y_val_new = le.transform(val_new['label'])"
   ]
  },
  {
   "cell_type": "code",
   "execution_count": 12,
   "id": "260c532b",
   "metadata": {},
   "outputs": [],
   "source": [
    "y_train_new = to_categorical(y_train_new, num_classes=7)\n",
    "y_val_new = to_categorical(y_val_new, num_classes=7)"
   ]
  },
  {
   "cell_type": "markdown",
   "id": "fb5d361a",
   "metadata": {},
   "source": [
    "## Convolutional neural network (CNN) model"
   ]
  },
  {
   "cell_type": "code",
   "execution_count": 17,
   "id": "cf97505c",
   "metadata": {},
   "outputs": [],
   "source": [
    "# CNN model architecture\n",
    "model_new = Sequential()\n",
    "model_new.add(Conv2D(64, kernel_size=(3,3), activation='relu', input_shape=(720, 576, 3)))\n",
    "model_new.add(MaxPooling2D(pool_size=(2,2)))\n",
    "model_new.add(Dropout(0.4))\n",
    "model_new.add(Conv2D(128, kernel_size=(3,3), activation='relu'))\n",
    "model_new.add(MaxPooling2D(pool_size=(2,2)))\n",
    "model_new.add(Dropout(0.4))\n",
    "model_new.add(Conv2D(256, kernel_size=(3,3), activation='relu'))\n",
    "model_new.add(MaxPooling2D(pool_size=(2,2)))\n",
    "model_new.add(Dropout(0.4))\n",
    "model_new.add(Conv2D(256, kernel_size=(3,3), activation='relu'))\n",
    "model_new.add(MaxPooling2D(pool_size=(2,2)))\n",
    "model_new.add(Dropout(0.4))\n",
    "model_new.add(Flatten())\n",
    "model_new.add(Dense(256, activation='relu'))\n",
    "model_new.add(Dropout(0.4))\n",
    "model_new.add(Dense(128, activation='relu'))\n",
    "model_new.add(Dropout(0.3))\n",
    "model_new.add(Dense(7, activation='softmax'))\n",
    "\n",
    "# Compile the model\n",
    "model_new.compile(optimizer='adam', loss='categorical_crossentropy', metrics=['accuracy'])"
   ]
  },
  {
   "cell_type": "markdown",
   "id": "386e7452",
   "metadata": {},
   "source": [
    "## Train the model and evalute with test dataset"
   ]
  },
  {
   "cell_type": "code",
   "execution_count": 18,
   "id": "a8187b70-337f-4cbe-8a6b-9734fe3c87ea",
   "metadata": {},
   "outputs": [
    {
     "name": "stdout",
     "output_type": "stream",
     "text": [
      "Model weights loaded successfully!\n",
      "Epoch 1/37\n",
      "30/30 [==============================] - 223s 7s/step - loss: 1.8536 - accuracy: 0.2484 - val_loss: 1.9456 - val_accuracy: 0.1766\n",
      "Epoch 2/37\n",
      "30/30 [==============================] - 215s 7s/step - loss: 1.8467 - accuracy: 0.2401 - val_loss: 1.9150 - val_accuracy: 0.1720\n",
      "Epoch 3/37\n",
      "30/30 [==============================] - 215s 7s/step - loss: 1.8004 - accuracy: 0.2693 - val_loss: 1.8965 - val_accuracy: 0.1766\n",
      "Epoch 4/37\n",
      "30/30 [==============================] - 216s 7s/step - loss: 1.7943 - accuracy: 0.2683 - val_loss: 1.9599 - val_accuracy: 0.1651\n",
      "Epoch 5/37\n",
      "30/30 [==============================] - 215s 7s/step - loss: 1.7649 - accuracy: 0.2871 - val_loss: 1.9857 - val_accuracy: 0.1674\n",
      "Epoch 6/37\n",
      "30/30 [==============================] - 216s 7s/step - loss: 1.7141 - accuracy: 0.3372 - val_loss: 2.0393 - val_accuracy: 0.1674\n",
      "Epoch 7/37\n",
      "30/30 [==============================] - 216s 7s/step - loss: 1.6696 - accuracy: 0.3559 - val_loss: 2.0503 - val_accuracy: 0.1537\n",
      "Epoch 8/37\n",
      "30/30 [==============================] - 217s 7s/step - loss: 1.5466 - accuracy: 0.4008 - val_loss: 2.1859 - val_accuracy: 0.1881\n",
      "Epoch 9/37\n",
      "30/30 [==============================] - 215s 7s/step - loss: 1.4449 - accuracy: 0.4676 - val_loss: 2.2782 - val_accuracy: 0.1606\n",
      "Epoch 10/37\n",
      "30/30 [==============================] - 215s 7s/step - loss: 1.2850 - accuracy: 0.5292 - val_loss: 2.4049 - val_accuracy: 0.1537\n",
      "Epoch 11/37\n",
      "30/30 [==============================] - 216s 7s/step - loss: 1.0857 - accuracy: 0.6023 - val_loss: 2.6239 - val_accuracy: 0.1055\n",
      "Epoch 12/37\n",
      "30/30 [==============================] - 216s 7s/step - loss: 0.9341 - accuracy: 0.6597 - val_loss: 3.1058 - val_accuracy: 0.1353\n",
      "Epoch 13/37\n",
      "30/30 [==============================] - 215s 7s/step - loss: 0.8453 - accuracy: 0.7015 - val_loss: 3.0249 - val_accuracy: 0.1078\n",
      "Epoch 14/37\n",
      "30/30 [==============================] - 215s 7s/step - loss: 0.7577 - accuracy: 0.7401 - val_loss: 3.1419 - val_accuracy: 0.1399\n",
      "Epoch 15/37\n",
      "30/30 [==============================] - 215s 7s/step - loss: 0.6077 - accuracy: 0.7923 - val_loss: 4.0491 - val_accuracy: 0.1170\n",
      "Epoch 16/37\n",
      "30/30 [==============================] - 215s 7s/step - loss: 0.5527 - accuracy: 0.8330 - val_loss: 3.2237 - val_accuracy: 0.1330\n",
      "Epoch 17/37\n",
      "30/30 [==============================] - 215s 7s/step - loss: 0.4392 - accuracy: 0.8570 - val_loss: 4.3871 - val_accuracy: 0.1261\n",
      "Epoch 18/37\n",
      "30/30 [==============================] - 215s 7s/step - loss: 0.4412 - accuracy: 0.8810 - val_loss: 4.1083 - val_accuracy: 0.1239\n",
      "Epoch 19/37\n",
      "30/30 [==============================] - 216s 7s/step - loss: 0.3664 - accuracy: 0.8925 - val_loss: 3.8934 - val_accuracy: 0.1170\n",
      "Epoch 20/37\n",
      "30/30 [==============================] - 215s 7s/step - loss: 0.3325 - accuracy: 0.8956 - val_loss: 4.3023 - val_accuracy: 0.1330\n",
      "Epoch 21/37\n",
      "30/30 [==============================] - 215s 7s/step - loss: 0.2686 - accuracy: 0.9280 - val_loss: 3.8808 - val_accuracy: 0.1399\n",
      "Epoch 22/37\n",
      "30/30 [==============================] - 216s 7s/step - loss: 0.2953 - accuracy: 0.9228 - val_loss: 4.5826 - val_accuracy: 0.1353\n",
      "Epoch 23/37\n",
      "30/30 [==============================] - 215s 7s/step - loss: 0.2528 - accuracy: 0.9196 - val_loss: 4.1685 - val_accuracy: 0.1537\n",
      "Epoch 24/37\n",
      "30/30 [==============================] - 215s 7s/step - loss: 0.2730 - accuracy: 0.9186 - val_loss: 3.8213 - val_accuracy: 0.1583\n",
      "Epoch 25/37\n",
      "30/30 [==============================] - 216s 7s/step - loss: 0.2514 - accuracy: 0.9228 - val_loss: 4.1704 - val_accuracy: 0.1491\n",
      "Epoch 26/37\n",
      "30/30 [==============================] - 216s 7s/step - loss: 0.2585 - accuracy: 0.9311 - val_loss: 4.1081 - val_accuracy: 0.1697\n",
      "Epoch 27/37\n",
      "30/30 [==============================] - 215s 7s/step - loss: 0.2114 - accuracy: 0.9405 - val_loss: 4.3756 - val_accuracy: 0.1422\n",
      "Epoch 28/37\n",
      "30/30 [==============================] - 215s 7s/step - loss: 0.2192 - accuracy: 0.9426 - val_loss: 4.1858 - val_accuracy: 0.1491\n",
      "Epoch 29/37\n",
      "30/30 [==============================] - 214s 7s/step - loss: 0.1945 - accuracy: 0.9582 - val_loss: 3.8174 - val_accuracy: 0.1468\n",
      "Epoch 30/37\n",
      "30/30 [==============================] - 215s 7s/step - loss: 0.1480 - accuracy: 0.9499 - val_loss: 4.1707 - val_accuracy: 0.1537\n",
      "Epoch 31/37\n",
      "30/30 [==============================] - 215s 7s/step - loss: 0.1585 - accuracy: 0.9509 - val_loss: 4.3132 - val_accuracy: 0.1422\n",
      "Epoch 32/37\n",
      "30/30 [==============================] - 215s 7s/step - loss: 0.1333 - accuracy: 0.9666 - val_loss: 4.3231 - val_accuracy: 0.1422\n",
      "Epoch 33/37\n",
      "30/30 [==============================] - 215s 7s/step - loss: 0.1360 - accuracy: 0.9687 - val_loss: 4.1388 - val_accuracy: 0.1193\n",
      "Epoch 34/37\n",
      "30/30 [==============================] - 215s 7s/step - loss: 0.1303 - accuracy: 0.9645 - val_loss: 4.2773 - val_accuracy: 0.1445\n",
      "Epoch 35/37\n",
      "30/30 [==============================] - 216s 7s/step - loss: 0.1081 - accuracy: 0.9645 - val_loss: 5.5644 - val_accuracy: 0.1307\n",
      "Epoch 36/37\n",
      "30/30 [==============================] - 214s 7s/step - loss: 0.1115 - accuracy: 0.9676 - val_loss: 5.0991 - val_accuracy: 0.1491\n",
      "Epoch 37/37\n",
      "30/30 [==============================] - 214s 7s/step - loss: 0.1347 - accuracy: 0.9582 - val_loss: 4.7124 - val_accuracy: 0.1537\n"
     ]
    },
    {
     "ename": "NameError",
     "evalue": "name 'model' is not defined",
     "output_type": "error",
     "traceback": [
      "\u001b[0;31m---------------------------------------------------------------------------\u001b[0m",
      "\u001b[0;31mNameError\u001b[0m                                 Traceback (most recent call last)",
      "Cell \u001b[0;32mIn[18], line 17\u001b[0m\n\u001b[1;32m     14\u001b[0m \u001b[38;5;66;03m# Train the model\u001b[39;00m\n\u001b[1;32m     15\u001b[0m history \u001b[38;5;241m=\u001b[39m model_new\u001b[38;5;241m.\u001b[39mfit(x\u001b[38;5;241m=\u001b[39mx_train_new, y\u001b[38;5;241m=\u001b[39my_train_new, batch_size\u001b[38;5;241m=\u001b[39m\u001b[38;5;241m32\u001b[39m, epochs\u001b[38;5;241m=\u001b[39m\u001b[38;5;241m37\u001b[39m, validation_data\u001b[38;5;241m=\u001b[39m(x_val_new, y_val_new), callbacks\u001b[38;5;241m=\u001b[39m[checkpoint_callback])\n\u001b[0;32m---> 17\u001b[0m loss, accuracy \u001b[38;5;241m=\u001b[39m \u001b[43mmodel\u001b[49m\u001b[38;5;241m.\u001b[39mevaluate(x_val_new, y_val_new)\n\u001b[1;32m     18\u001b[0m \u001b[38;5;28mprint\u001b[39m(\u001b[38;5;124m\"\u001b[39m\u001b[38;5;124mTest Loss:\u001b[39m\u001b[38;5;124m\"\u001b[39m, loss)\n\u001b[1;32m     19\u001b[0m \u001b[38;5;28mprint\u001b[39m(\u001b[38;5;124m\"\u001b[39m\u001b[38;5;124mTest Accuracy:\u001b[39m\u001b[38;5;124m\"\u001b[39m, accuracy)\n",
      "\u001b[0;31mNameError\u001b[0m: name 'model' is not defined"
     ]
    }
   ],
   "source": [
    "from keras.callbacks import ModelCheckpoint\n",
    "\n",
    "# Define the checkpoint filepath\n",
    "checkpoint_filepath = 'CNN_model_checkpoint.h5'\n",
    "\n",
    "# Check if the checkpoint file exists\n",
    "if os.path.exists(checkpoint_filepath):\n",
    "    # Load the model weights\n",
    "    model_new.load_weights(checkpoint_filepath)\n",
    "    print(\"Model weights loaded successfully!\")\n",
    "\n",
    "# Define the ModelCheckpoint callback\n",
    "checkpoint_callback = ModelCheckpoint(filepath=checkpoint_filepath, save_weights_only=True, monitor='val_accuracy', mode='max', save_best_only=True)\n",
    "# Train the model\n",
    "history = model_new.fit(x=x_train_new, y=y_train_new, batch_size=32, epochs=37, validation_data=(x_val_new, y_val_new), callbacks=[checkpoint_callback])"
   ]
  },
  {
   "cell_type": "markdown",
   "id": "c865de43",
   "metadata": {},
   "source": [
    "## Test accuracy on test dataset"
   ]
  },
  {
   "cell_type": "code",
   "execution_count": 19,
   "id": "e79356b4-ec18-4ac6-91a3-afe5c364a7d3",
   "metadata": {},
   "outputs": [
    {
     "name": "stdout",
     "output_type": "stream",
     "text": [
      "14/14 [==============================] - 13s 911ms/step - loss: 4.7124 - accuracy: 0.1537\n",
      "Test Loss: 4.712351322174072\n",
      "Test Accuracy: 0.15366972982883453\n"
     ]
    },
    {
     "data": {
      "image/png": "[encoded data removed]",
      "text/plain": [
       "<Figure size 800x400 with 1 Axes>"
      ]
     },
     "metadata": {},
     "output_type": "display_data"
    },
    {
     "data": {
      "image/png": "[encoded data removed]",
      "text/plain": [
       "<Figure size 640x480 with 1 Axes>"
      ]
     },
     "metadata": {},
     "output_type": "display_data"
    }
   ],
   "source": [
    "loss, accuracy = model_new.evaluate(x_val_new, y_val_new)\n",
    "print(\"Test Loss:\", loss)\n",
    "print(\"Test Accuracy:\", accuracy)\n",
    "\n",
    "plt.figure(figsize=(8, 4))\n",
    "\n",
    "# Plot loss vs epoch for both train and test\n",
    "plt.subplot(1, 2, 1)\n",
    "plt.plot(history.history['loss'], label='Train Loss')\n",
    "plt.plot(history.history['val_loss'], label='Test Loss')\n",
    "plt.title('Loss vs Epoch')\n",
    "plt.xlabel('Epoch')\n",
    "plt.ylabel('Loss')\n",
    "plt.legend()\n",
    "plt.show()\n",
    "\n",
    "# Plot accuracy vs epoch for both train and test\n",
    "plt.subplot(1, 2, 2)\n",
    "plt.plot(history.history['accuracy'], label='Train Accuracy')\n",
    "plt.plot(history.history['val_accuracy'], label='Test Accuracy')\n",
    "plt.title('Accuracy vs Epoch')\n",
    "plt.xlabel('Epoch')\n",
    "plt.ylabel('Accuracy')\n",
    "plt.legend()\n",
    "plt.show()"
   ]
  },
  {
   "cell_type": "markdown",
   "id": "53ac9162",
   "metadata": {},
   "source": [
    "## Save the model"
   ]
  },
  {
   "cell_type": "code",
   "execution_count": 22,
   "id": "f231dacb",
   "metadata": {},
   "outputs": [
    {
     "name": "stderr",
     "output_type": "stream",
     "text": [
      "/home/preet7/jupyter1/lib/python3.9/site-packages/keras/src/engine/training.py:3079: UserWarning: You are saving your model as an HDF5 file via `model.save()`. This file format is considered legacy. We recommend using instead the native Keras format, e.g. `model.save('my_model.keras')`.\n",
      "  saving_api.save_model(\n"
     ]
    }
   ],
   "source": [
    "model_json = model_new.to_json()\n",
    "with open(\"CNN_model-SFEW.json\",'w') as json_file:\n",
    "    json_file.write(model_json)\n",
    "model_new.save(\"CNN_model-SFEW.h5\")"
   ]
  }
 ],
 "metadata": {
  "kernelspec": {
   "display_name": "Python 3 (ipykernel)",
   "language": "python",
   "name": "python3"
  },
  "language_info": {
   "codemirror_mode": {
    "name": "ipython",
    "version": 3
   },
   "file_extension": ".py",
   "mimetype": "text/x-python",
   "name": "python",
   "nbconvert_exporter": "python",
   "pygments_lexer": "ipython3",
   "version": "3.10.9"
  }
 },
 "nbformat": 4,
 "nbformat_minor": 5
}
